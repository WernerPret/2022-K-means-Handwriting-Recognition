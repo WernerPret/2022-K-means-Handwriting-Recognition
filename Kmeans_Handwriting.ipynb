{
 "cells": [
  {
   "cell_type": "markdown",
   "id": "5de8f4a0",
   "metadata": {},
   "source": [
    "# Basic Digit Hand Writing Recognition with KMeans Clustering"
   ]
  },
  {
   "cell_type": "markdown",
   "id": "3794a5ed",
   "metadata": {},
   "source": [
    "#### Imports"
   ]
  },
  {
   "cell_type": "code",
   "execution_count": 77,
   "id": "277c278d",
   "metadata": {},
   "outputs": [],
   "source": [
    "import numpy as np\n",
    "from matplotlib import pyplot as plt\n",
    "from sklearn import datasets\n",
    "from sklearn.cluster import KMeans\n",
    "import seaborn as sns\n",
    "from sklearn.model_selection import train_test_split"
   ]
  },
  {
   "cell_type": "markdown",
   "id": "55598312",
   "metadata": {},
   "source": [
    "#### Introductions to Dataset "
   ]
  },
  {
   "cell_type": "code",
   "execution_count": 78,
   "id": "0b425a8b",
   "metadata": {},
   "outputs": [],
   "source": [
    "# load dataset\n",
    "digits = datasets.load_digits()\n",
    "\n",
    "# Inspect Dataset Description\n",
    "# print(digits.DESCR)\n",
    "\n",
    "# Check Digit Data\n",
    "digits_data = digits.data\n",
    "\n",
    "# Check Digit Targets\n",
    "digit_targets = digits.target\n",
    "k = len(np.unique(digits.target))\n",
    "\n",
    "# 5. Check Digit Images\n",
    "digit_images = digits.images"
   ]
  },
  {
   "cell_type": "markdown",
   "id": "3ae70b98",
   "metadata": {},
   "source": [
    "#### Use matplotlib to view image => compare with target"
   ]
  },
  {
   "cell_type": "code",
   "execution_count": 89,
   "id": "32dcc8ae",
   "metadata": {},
   "outputs": [
    {
     "name": "stdout",
     "output_type": "stream",
     "text": [
      "2\n"
     ]
    },
    {
     "data": {
      "text/plain": [
       "<Figure size 432x288 with 0 Axes>"
      ]
     },
     "metadata": {},
     "output_type": "display_data"
    },
    {
     "data": {
      "image/png": "[encoded data removed]",
      "text/plain": [
       "<Figure size 288x288 with 1 Axes>"
      ]
     },
     "metadata": {
      "needs_background": "light"
     },
     "output_type": "display_data"
    }
   ],
   "source": [
    "\n",
    "img = 2\n",
    "plt.gray()\n",
    "plt.matshow(digit_images[img])\n",
    "print(digit_targets[img])\n",
    "plt.show()"
   ]
  },
  {
   "cell_type": "code",
   "execution_count": 80,
   "id": "7e32eab9",
   "metadata": {},
   "outputs": [
    {
     "data": {
      "text/plain": [
       "KMeans(n_clusters=10)"
      ]
     },
     "execution_count": 80,
     "metadata": {},
     "output_type": "execute_result"
    }
   ],
   "source": [
    "# Build model\n",
    "kmeans = KMeans(init=\"k-means++\", n_clusters = k)\n",
    "kmeans.fit(digits_data)"
   ]
  },
  {
   "cell_type": "markdown",
   "id": "99715ff3",
   "metadata": {},
   "source": [
    "#### Visualise Centroids"
   ]
  },
  {
   "cell_type": "code",
   "execution_count": 81,
   "id": "2163ac01",
   "metadata": {
    "scrolled": true
   },
   "outputs": [
    {
     "data": {
      "image/png": "[encoded data removed]",
      "text/plain": [
       "<Figure size 576x216 with 10 Axes>"
      ]
     },
     "metadata": {
      "needs_background": "light"
     },
     "output_type": "display_data"
    }
   ],
   "source": [
    "fig = plt.figure(figsize=(8,3))\n",
    "fig.suptitle(\"Cluster Center Images\", fontsize=14, fontweight=\"bold\")\n",
    "for i in range(k):\n",
    "    ax = fig.add_subplot(2, 5, 1 + i)\n",
    "    ax.imshow(kmeans.cluster_centers_[i].reshape(8,8), cmap=plt.cm.binary)\n",
    "plt.show()"
   ]
  },
  {
   "cell_type": "markdown",
   "id": "3f473c8b",
   "metadata": {},
   "source": [
    "#### Test model on test data"
   ]
  },
  {
   "cell_type": "code",
   "execution_count": 94,
   "id": "576c0aef",
   "metadata": {},
   "outputs": [
    {
     "name": "stdout",
     "output_type": "stream",
     "text": [
      "True values: [5 1 1 9 2 0 7 3 0 0]\n",
      "Test Values: [0 1 2 3 4 5 6 7 8 9] => find the images above that correspond to these indices\n"
     ]
    }
   ],
   "source": [
    "# test predictor\n",
    "\n",
    "range_start = 0\n",
    "range_end = 10\n",
    "\n",
    "x_test = digits_data[range_start:range_end]\n",
    "y_pred = kmeans.predict(x_test)\n",
    "\n",
    "# match indexes of Test values with images manually\n",
    "print(f\"Test values: {y_pred}\")\n",
    "print(f\"True Values: {digit_targets[range_start:range_end]} => find the images above that correspond to these indices\")\n"
   ]
  },
  {
   "cell_type": "markdown",
   "id": "da9e5d47",
   "metadata": {},
   "source": [
    "#### Test model on my own handwriting"
   ]
  },
  {
   "cell_type": "code",
   "execution_count": 100,
   "id": "a448dc3a",
   "metadata": {},
   "outputs": [
    {
     "name": "stdout",
     "output_type": "stream",
     "text": [
      "Test values: [5 8 5 4]) => find the images above that correspond to these indices\n",
      "True Values: 1234\n"
     ]
    }
   ],
   "source": [
    "my_handwriting = np.array([\n",
    "[0.00,0.23,4.12,5.34,5.34,4.27,0.76,0.00,0.00,4.42,7.62,5.72,5.64,7.47,7.17,1.29,0.53,7.24,5.19,0.00,0.00,1.76,7.63,3.81,1.52,7.62,2.44,0.00,0.00,0.00,7.62,3.81,0.84,7.63,3.89,0.00,0.00,0.00,7.62,3.81,0.00,5.64,7.02,1.22,0.00,0.46,7.62,3.81,0.00,2.14,7.32,7.55,6.18,6.79,7.62,2.06,0.00,0.00,0.92,4.04,4.57,4.57,2.59,0.00],\n",
    "[0.00,0.00,0.69,0.76,0.23,0.00,0.00,0.00,3.28,6.63,7.62,7.62,6.79,0.92,0.00,0.00,4.58,5.64,3.13,2.67,7.32,4.57,0.00,0.00,0.00,0.00,0.00,0.00,5.42,6.48,0.00,0.00,0.00,0.00,0.00,0.00,4.57,6.86,0.00,0.00,0.00,3.43,6.10,5.87,6.25,6.86,0.00,0.00,0.00,5.87,7.62,7.62,7.62,7.09,2.36,0.23,0.00,1.37,3.81,3.81,4.42,7.63,7.62,1.90],\n",
    "[0.00,0.00,0.00,0.00,0.00,0.00,0.00,0.00,0.00,1.07,6.33,7.62,7.62,7.62,7.24,3.51,0.00,4.80,7.32,3.58,3.05,3.20,7.32,5.11,0.08,7.40,4.73,0.00,0.00,0.00,6.10,5.34,0.76,7.62,3.13,0.00,0.00,0.69,7.09,4.80,0.23,7.17,6.48,1.83,0.76,5.49,7.47,1.60,0.00,2.14,7.01,7.62,7.62,7.62,3.74,0.00,0.00,0.00,0.31,2.21,2.29,2.14,0.08,0.00],\n",
    "[1.45,6.41,7.62,7.62,7.62,7.62,7.17,4.88,4.50,7.62,3.28,1.52,1.52,2.67,3.81,2.44,2.98,7.62,4.88,0.76,0.00,0.00,0.00,0.00,0.00,4.35,7.40,7.17,4.50,2.06,0.00,0.00,0.00,0.00,1.45,5.34,7.24,7.62,3.05,0.00,0.00,0.00,0.00,0.00,1.53,7.24,5.34,0.00,2.98,3.81,4.42,6.71,7.62,7.55,3.51,0.00,5.88,6.86,6.86,5.57,3.35,1.07,0.00,0.00]\n",
    "])\n",
    "\n",
    "y_pred = kmeans.predict(my_handwriting)\n",
    "\n",
    "print(f\"Test values: {y_pred}) => find the images above that correspond to these indices\")\n",
    "print(f\"True Values: 1234\") "
   ]
  },
  {
   "cell_type": "markdown",
   "id": "e7eed878",
   "metadata": {},
   "source": [
    "Works!!! ...Sometimes... Overall, not bad."
   ]
  }
 ],
 "metadata": {
  "kernelspec": {
   "display_name": "Python 3",
   "language": "python",
   "name": "python3"
  },
  "language_info": {
   "codemirror_mode": {
    "name": "ipython",
    "version": 3
   },
   "file_extension": ".py",
   "mimetype": "text/x-python",
   "name": "python",
   "nbconvert_exporter": "python",
   "pygments_lexer": "ipython3",
   "version": "3.8.8"
  }
 },
 "nbformat": 4,
 "nbformat_minor": 5
}
